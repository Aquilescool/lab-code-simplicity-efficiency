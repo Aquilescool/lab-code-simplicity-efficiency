{
 "cells": [
  {
   "cell_type": "code",
   "execution_count": 12,
   "metadata": {},
   "outputs": [
    {
     "name": "stdout",
     "output_type": "stream",
     "text": [
      "Enter minimum string length: 2\n",
      "Enter maximum string length: 4\n",
      "How many random strings to generate? 2\n",
      "['jy', 'jxb']\n"
     ]
    }
   ],
   "source": [
    "import random\n",
    "import sys\n",
    "import random\n",
    "def RandomStringGenerator(l=12, a=['a','b','c','d','e','f','g','h','i','j','k','l','m','n','o','p','q','r','s','t','u','v','w','x','y','z','0','1','2','3','4','5','6','7','8','9']):\n",
    "    return ''.join(random.choices(a, k=l))\n",
    "\n",
    "def BatchStringGenerator(n, a=8, b=12):\n",
    "    c = random.choice(range(a, b)) if a < b else sys.exit('Incorrect min and max string lengths. Try again.')\n",
    "    return [RandomStringGenerator(i) for i in range(n)]\n",
    "\n",
    "a,b,n = input('Enter minimum string length: '),input('Enter maximum string length: '),input('How many random strings to generate? ')\n",
    "print(BatchStringGenerator(int(n), int(a), int(b)))"
   ]
  },
  {
   "cell_type": "code",
   "execution_count": null,
   "metadata": {},
   "outputs": [],
   "source": [
    "\n"
   ]
  }
 ],
 "metadata": {
  "kernelspec": {
   "display_name": "Python 3",
   "language": "python",
   "name": "python3"
  },
  "language_info": {
   "codemirror_mode": {
    "name": "ipython",
    "version": 3
   },
   "file_extension": ".py",
   "mimetype": "text/x-python",
   "name": "python",
   "nbconvert_exporter": "python",
   "pygments_lexer": "ipython3",
   "version": "3.7.4"
  }
 },
 "nbformat": 4,
 "nbformat_minor": 2
}
