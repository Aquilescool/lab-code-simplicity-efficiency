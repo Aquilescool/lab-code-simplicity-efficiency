{
 "cells": [
  {
   "cell_type": "code",
   "execution_count": 17,
   "metadata": {},
   "outputs": [
    {
     "name": "stdout",
     "output_type": "stream",
     "text": [
      "Welcome to this calculator! It can add and subtract whole numbers from zero to five\n",
      "Please choose your first number (zero to five): one\n",
      "What do you want to do? plus or minus: minus\n",
      "Please choose your second number (zero to five): five\n",
      "one  minus  five  equal: minusfour\n"
     ]
    }
   ],
   "source": [
    "print('Welcome to this calculator!','It can add and subtract whole numbers from zero to five')\n",
    "a,b,c=input('Please choose your first number (zero to five): '),input('What do you want to do? plus or minus: '),input('Please choose your second number (zero to five): ')\n",
    "dic_numeros={'minusfive':-5,'minusfour':-4,'minusthree':-3,'minustwo':-2,'minusone':-1,'zero' : 0, 'one' : 1, 'two' : 2, 'three' : 3, 'four' : 4, 'five' : 5, 'six' : 6,'seven' : 7,'eight' : 8,'nine' : 9,'ten' : 10, 'plus':'+','minus':'-'}\n",
    "def funcion_number(a,b,c):\n",
    "    return dic_numeros.get(a), dic_numeros.get(b), dic_numeros.get(c) \n",
    "tupla_=funcion_number(a,b,c)\n",
    "a,b,c=tupla_[0],tupla_[1],tupla_[2]\n",
    "y=(lambda a,c: a+c if b=='+' else a-c)\n",
    "print(list(dic_numeros.keys())[list(dic_numeros.values()).index(a)],'',list(dic_numeros.keys())[list(dic_numeros.values()).index(b)],'',list(dic_numeros.keys())[list(dic_numeros.values()).index(c)],' equal:',list(dic_numeros.keys())[list(dic_numeros.values()).index(y(a,c))])\n",
    "\n"
   ]
  },
  {
   "cell_type": "code",
   "execution_count": null,
   "metadata": {},
   "outputs": [],
   "source": []
  },
  {
   "cell_type": "code",
   "execution_count": null,
   "metadata": {},
   "outputs": [],
   "source": []
  }
 ],
 "metadata": {
  "kernelspec": {
   "display_name": "Python 3",
   "language": "python",
   "name": "python3"
  },
  "language_info": {
   "codemirror_mode": {
    "name": "ipython",
    "version": 3
   },
   "file_extension": ".py",
   "mimetype": "text/x-python",
   "name": "python",
   "nbconvert_exporter": "python",
   "pygments_lexer": "ipython3",
   "version": "3.7.4"
  }
 },
 "nbformat": 4,
 "nbformat_minor": 2
}
